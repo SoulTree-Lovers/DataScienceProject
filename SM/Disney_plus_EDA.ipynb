{
 "cells": [
  {
   "cell_type": "code",
   "execution_count": 8,
   "id": "6d02c8f6",
   "metadata": {},
   "outputs": [],
   "source": [
    "import pandas as pd\n",
    "import pandas as pd\n",
    "import seaborn as sns\n",
    "import matplotlib.pyplot as plt\n",
    "\n",
    "# 데이터 불러오기\n",
    "df = pd.read_csv(\"../Disney_dataset/titles.csv\")\n"
   ]
  },
  {
   "cell_type": "code",
   "execution_count": 2,
   "id": "62b5b7a6",
   "metadata": {},
   "outputs": [
    {
     "name": "stdout",
     "output_type": "stream",
     "text": [
      "데이터셋 크기: (1854, 15)\n",
      "열(변수)의 개수: 15\n",
      "열의 이름: Index(['id', 'title', 'type', 'description', 'release_year',\n",
      "       'age_certification', 'runtime', 'genres', 'production_countries',\n",
      "       'seasons', 'imdb_id', 'imdb_score', 'imdb_votes', 'tmdb_popularity',\n",
      "       'tmdb_score'],\n",
      "      dtype='object')\n"
     ]
    }
   ],
   "source": [
    "# 데이터셋 구조 파악\n",
    "print(\"데이터셋 크기:\", df.shape)\n",
    "print(\"열(변수)의 개수:\", len(df.columns))\n",
    "print(\"열의 이름:\", df.columns)"
   ]
  },
  {
   "cell_type": "code",
   "execution_count": 3,
   "id": "f5e6bddb",
   "metadata": {},
   "outputs": [
    {
     "name": "stdout",
     "output_type": "stream",
     "text": [
      "\n",
      "상위 5개 데이터:\n",
      "        id                                   title   type  \\\n",
      "0  tm89464                  Miracle on 34th Street  MOVIE   \n",
      "1  tm61729  The Adventures of Ichabod and Mr. Toad  MOVIE   \n",
      "2  tm61052                              Cinderella  MOVIE   \n",
      "3  tm87946                                   Dumbo  MOVIE   \n",
      "4  tm74391                                Fantasia  MOVIE   \n",
      "\n",
      "                                         description  release_year  \\\n",
      "0  Kris Kringle, seemingly the embodiment of Sant...          1947   \n",
      "1  The Wind in the Willows: Concise version of Ke...          1950   \n",
      "2  Cinderella has faith her dreams of a better li...          1950   \n",
      "3  Dumbo is a baby elephant born with over-sized ...          1941   \n",
      "4  Walt Disney's timeless masterpiece is an extra...          1941   \n",
      "\n",
      "  age_certification  runtime  \\\n",
      "0                 G       96   \n",
      "1                 G       68   \n",
      "2                 G       74   \n",
      "3                 G       64   \n",
      "4                 G      119   \n",
      "\n",
      "                                              genres production_countries  \\\n",
      "0                      ['family', 'comedy', 'drama']               ['US']   \n",
      "1  ['horror', 'fantasy', 'animation', 'family', '...               ['US']   \n",
      "2      ['fantasy', 'animation', 'family', 'romance']               ['US']   \n",
      "3        ['animation', 'drama', 'family', 'fantasy']               ['US']   \n",
      "4        ['animation', 'family', 'fantasy', 'music']               ['US']   \n",
      "\n",
      "   seasons    imdb_id  imdb_score  imdb_votes  tmdb_popularity  tmdb_score  \n",
      "0      NaN  tt0039628         7.9     50969.0           23.515       7.388  \n",
      "1      NaN  tt0041094         6.9     16502.0           16.194       6.500  \n",
      "2      NaN  tt0042332         7.3    164292.0           93.547       7.035  \n",
      "3      NaN  tt0033563         7.2    135045.0           54.265       6.999  \n",
      "4      NaN  tt0032455         7.7     98764.0           43.609       7.382  \n"
     ]
    }
   ],
   "source": [
    "# 데이터셋 살펴보기 (상위 5개 데이터 출력)\n",
    "print(\"\\n상위 5개 데이터:\")\n",
    "print(df.head())"
   ]
  },
  {
   "cell_type": "code",
   "execution_count": 4,
   "id": "90145382",
   "metadata": {},
   "outputs": [
    {
     "name": "stdout",
     "output_type": "stream",
     "text": [
      "\n",
      "수치형 열의 기술 통계량:\n",
      "       release_year      runtime     seasons   imdb_score    imdb_votes  \\\n",
      "count   1854.000000  1854.000000  540.000000  1339.000000  1.328000e+03   \n",
      "mean    2006.193635    59.206580    2.618519     6.620687  6.961624e+04   \n",
      "std       20.629561    38.566305    3.268281     1.066208  1.846213e+05   \n",
      "min     1928.000000     1.000000    1.000000     1.600000  5.000000e+00   \n",
      "25%     2002.000000    24.000000    1.000000     5.950000  3.267500e+02   \n",
      "50%     2014.000000    48.000000    2.000000     6.700000  3.228000e+03   \n",
      "75%     2020.000000    91.000000    3.000000     7.400000  3.273050e+04   \n",
      "max     2023.000000   182.000000   36.000000     9.500000  1.403757e+06   \n",
      "\n",
      "       tmdb_popularity   tmdb_score  \n",
      "count      1839.000000  1708.000000  \n",
      "mean         25.745671     6.817494  \n",
      "std          79.389568     1.165990  \n",
      "min           0.600000     2.000000  \n",
      "25%           2.998500     6.217500  \n",
      "50%           9.148000     6.873000  \n",
      "75%          23.152500     7.500000  \n",
      "max        2159.377000    10.000000  \n"
     ]
    }
   ],
   "source": [
    "# 기본적인 통계 분석\n",
    "print(\"\\n수치형 열의 기술 통계량:\")\n",
    "print(df.describe())"
   ]
  },
  {
   "cell_type": "code",
   "execution_count": 5,
   "id": "57b8c723",
   "metadata": {},
   "outputs": [
    {
     "name": "stdout",
     "output_type": "stream",
     "text": [
      "\n",
      "결측치 개수:\n",
      "id                         0\n",
      "title                      0\n",
      "type                       0\n",
      "description                9\n",
      "release_year               0\n",
      "age_certification        451\n",
      "runtime                    0\n",
      "genres                     0\n",
      "production_countries       0\n",
      "seasons                 1314\n",
      "imdb_id                  478\n",
      "imdb_score               515\n",
      "imdb_votes               526\n",
      "tmdb_popularity           15\n",
      "tmdb_score               146\n",
      "dtype: int64\n"
     ]
    }
   ],
   "source": [
    "# 결측치 확인\n",
    "print(\"\\n결측치 개수:\")\n",
    "print(df.isnull().sum())"
   ]
  },
  {
   "cell_type": "code",
   "execution_count": 6,
   "id": "a602a455",
   "metadata": {},
   "outputs": [
    {
     "name": "stdout",
     "output_type": "stream",
     "text": [
      "\n",
      "범주형 열의 고유값 개수:\n",
      "id: 1854 unique values\n",
      "title: 1814 unique values\n",
      "type: 2 unique values\n",
      "description: 1844 unique values\n",
      "age_certification: 11 unique values\n",
      "genres: 718 unique values\n",
      "production_countries: 85 unique values\n",
      "imdb_id: 1376 unique values\n"
     ]
    }
   ],
   "source": [
    "# 범주형 열의 고유값 개수\n",
    "print(\"\\n범주형 열의 고유값 개수:\")\n",
    "for column in df.select_dtypes(include='object'):\n",
    "    unique_values = df[column].nunique()\n",
    "    print(f\"{column}: {unique_values} unique values\")"
   ]
  },
  {
   "cell_type": "code",
   "execution_count": 7,
   "id": "e998aec4",
   "metadata": {
    "scrolled": false
   },
   "outputs": [
    {
     "name": "stdout",
     "output_type": "stream",
     "text": [
      "\n",
      "열간 상관관계:\n",
      "                 release_year   runtime   seasons  imdb_score  imdb_votes  \\\n",
      "release_year         1.000000  0.016650 -0.316920    0.020105   -0.039026   \n",
      "runtime              0.016650  1.000000  0.091813   -0.056332    0.425677   \n",
      "seasons             -0.316920  0.091813  1.000000    0.054492    0.164229   \n",
      "imdb_score           0.020105 -0.056332  0.054492    1.000000    0.263574   \n",
      "imdb_votes          -0.039026  0.425677  0.164229    0.263574    1.000000   \n",
      "tmdb_popularity      0.072248  0.143759  0.182105    0.098388    0.308815   \n",
      "tmdb_score           0.068751 -0.100243  0.023725    0.480065    0.139903   \n",
      "\n",
      "                 tmdb_popularity  tmdb_score  \n",
      "release_year            0.072248    0.068751  \n",
      "runtime                 0.143759   -0.100243  \n",
      "seasons                 0.182105    0.023725  \n",
      "imdb_score              0.098388    0.480065  \n",
      "imdb_votes              0.308815    0.139903  \n",
      "tmdb_popularity         1.000000    0.100453  \n",
      "tmdb_score              0.100453    1.000000  \n"
     ]
    }
   ],
   "source": [
    "# 열간 상관관계\n",
    "print(\"\\n열간 상관관계:\")\n",
    "print(df.corr())"
   ]
  },
  {
   "cell_type": "code",
   "execution_count": 9,
   "id": "4c17fa8a",
   "metadata": {},
   "outputs": [
    {
     "data": {
      "image/png": "[encoded data removed]",
      "text/plain": [
       "<Figure size 864x432 with 1 Axes>"
      ]
     },
     "metadata": {
      "needs_background": "light"
     },
     "output_type": "display_data"
    }
   ],
   "source": [
    "import re\n",
    "\n",
    "# genre 열의 데이터를 쉼표를 기준으로 분리하여 알파벳만 남긴 문자열로 변환하여 합집합 만들기\n",
    "genres = set()\n",
    "for genre_list in df['genres']:\n",
    "    if pd.notnull(genre_list):\n",
    "        genres.update(re.findall(r'[a-zA-Z]+', genre_list))\n",
    "\n",
    "# 각 문자열의 빈도수 계산\n",
    "genre_counts = {genre: 0 for genre in genres}\n",
    "for genre_list in df['genres']:\n",
    "    if pd.notnull(genre_list):\n",
    "        for genre in re.findall(r'[a-zA-Z]+', genre_list):\n",
    "            genre = genre.lower()\n",
    "            genre_counts[genre] += 1\n",
    "\n",
    "# 빈도수 시각화\n",
    "plt.figure(figsize=(12, 6))\n",
    "sns.barplot(x=list(genre_counts.values()), y=list(genre_counts.keys()))\n",
    "plt.title(\"Frequency of Genres\")\n",
    "plt.xlabel(\"Count\")\n",
    "plt.ylabel(\"Genre\")\n",
    "plt.show()"
   ]
  },
  {
   "cell_type": "code",
   "execution_count": null,
   "id": "30374b42",
   "metadata": {},
   "outputs": [],
   "source": []
  }
 ],
 "metadata": {
  "kernelspec": {
   "display_name": "Python 3 (ipykernel)",
   "language": "python",
   "name": "python3"
  },
  "language_info": {
   "codemirror_mode": {
    "name": "ipython",
    "version": 3
   },
   "file_extension": ".py",
   "mimetype": "text/x-python",
   "name": "python",
   "nbconvert_exporter": "python",
   "pygments_lexer": "ipython3",
   "version": "3.9.12"
  }
 },
 "nbformat": 4,
 "nbformat_minor": 5
}
