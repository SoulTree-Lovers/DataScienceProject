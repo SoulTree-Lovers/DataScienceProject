{
 "cells": [
  {
   "cell_type": "code",
   "execution_count": 4,
   "id": "37d6c4c9",
   "metadata": {},
   "outputs": [
    {
     "data": {
      "text/html": [
       "<div>\n",
       "<style scoped>\n",
       "    .dataframe tbody tr th:only-of-type {\n",
       "        vertical-align: middle;\n",
       "    }\n",
       "\n",
       "    .dataframe tbody tr th {\n",
       "        vertical-align: top;\n",
       "    }\n",
       "\n",
       "    .dataframe thead th {\n",
       "        text-align: right;\n",
       "    }\n",
       "</style>\n",
       "<table border=\"1\" class=\"dataframe\">\n",
       "  <thead>\n",
       "    <tr style=\"text-align: right;\">\n",
       "      <th></th>\n",
       "      <th>id</th>\n",
       "      <th>title</th>\n",
       "      <th>type</th>\n",
       "      <th>description</th>\n",
       "      <th>release_year</th>\n",
       "      <th>age_certification</th>\n",
       "      <th>runtime</th>\n",
       "      <th>genres</th>\n",
       "      <th>production_countries</th>\n",
       "      <th>seasons</th>\n",
       "      <th>imdb_id</th>\n",
       "      <th>imdb_score</th>\n",
       "      <th>imdb_votes</th>\n",
       "      <th>tmdb_popularity</th>\n",
       "      <th>tmdb_score</th>\n",
       "    </tr>\n",
       "  </thead>\n",
       "  <tbody>\n",
       "    <tr>\n",
       "      <th>0</th>\n",
       "      <td>tm1300</td>\n",
       "      <td>A Charlie Brown Christmas</td>\n",
       "      <td>MOVIE</td>\n",
       "      <td>When Charlie Brown complains about the overwhe...</td>\n",
       "      <td>1965</td>\n",
       "      <td>G</td>\n",
       "      <td>25</td>\n",
       "      <td>['comedy', 'drama', 'family', 'music', 'animat...</td>\n",
       "      <td>['US']</td>\n",
       "      <td>NaN</td>\n",
       "      <td>tt0059026</td>\n",
       "      <td>8.3</td>\n",
       "      <td>40328.0</td>\n",
       "      <td>10.848</td>\n",
       "      <td>7.688</td>\n",
       "    </tr>\n",
       "    <tr>\n",
       "      <th>1</th>\n",
       "      <td>tm71152</td>\n",
       "      <td>It's the Great Pumpkin, Charlie Brown</td>\n",
       "      <td>MOVIE</td>\n",
       "      <td>This classic \"Peanuts\" tale focuses on the thu...</td>\n",
       "      <td>1966</td>\n",
       "      <td>G</td>\n",
       "      <td>25</td>\n",
       "      <td>['animation', 'comedy', 'family']</td>\n",
       "      <td>['US']</td>\n",
       "      <td>NaN</td>\n",
       "      <td>tt0060550</td>\n",
       "      <td>8.2</td>\n",
       "      <td>20299.0</td>\n",
       "      <td>12.458</td>\n",
       "      <td>7.474</td>\n",
       "    </tr>\n",
       "    <tr>\n",
       "      <th>2</th>\n",
       "      <td>tm2562</td>\n",
       "      <td>A Charlie Brown Thanksgiving</td>\n",
       "      <td>MOVIE</td>\n",
       "      <td>Turkey, cranberries, pumpkin pie... and the Pe...</td>\n",
       "      <td>1973</td>\n",
       "      <td>G</td>\n",
       "      <td>25</td>\n",
       "      <td>['family', 'animation', 'comedy']</td>\n",
       "      <td>['US']</td>\n",
       "      <td>NaN</td>\n",
       "      <td>tt0068359</td>\n",
       "      <td>7.7</td>\n",
       "      <td>11406.0</td>\n",
       "      <td>12.591</td>\n",
       "      <td>7.311</td>\n",
       "    </tr>\n",
       "    <tr>\n",
       "      <th>3</th>\n",
       "      <td>tm125274</td>\n",
       "      <td>Be My Valentine, Charlie Brown</td>\n",
       "      <td>MOVIE</td>\n",
       "      <td>It's Valentine's Day again and Charlie Brown d...</td>\n",
       "      <td>1975</td>\n",
       "      <td>G</td>\n",
       "      <td>25</td>\n",
       "      <td>['animation', 'family', 'romance', 'comedy']</td>\n",
       "      <td>['US']</td>\n",
       "      <td>NaN</td>\n",
       "      <td>tt0072687</td>\n",
       "      <td>7.4</td>\n",
       "      <td>2777.0</td>\n",
       "      <td>6.981</td>\n",
       "      <td>7.000</td>\n",
       "    </tr>\n",
       "    <tr>\n",
       "      <th>4</th>\n",
       "      <td>tm106607</td>\n",
       "      <td>It's the Easter Beagle, Charlie Brown</td>\n",
       "      <td>MOVIE</td>\n",
       "      <td>Charlie Brown, Linus and the entire Peanuts ga...</td>\n",
       "      <td>1974</td>\n",
       "      <td>G</td>\n",
       "      <td>25</td>\n",
       "      <td>['family', 'animation', 'comedy']</td>\n",
       "      <td>['US']</td>\n",
       "      <td>NaN</td>\n",
       "      <td>tt0071679</td>\n",
       "      <td>7.5</td>\n",
       "      <td>3001.0</td>\n",
       "      <td>6.172</td>\n",
       "      <td>6.600</td>\n",
       "    </tr>\n",
       "    <tr>\n",
       "      <th>...</th>\n",
       "      <td>...</td>\n",
       "      <td>...</td>\n",
       "      <td>...</td>\n",
       "      <td>...</td>\n",
       "      <td>...</td>\n",
       "      <td>...</td>\n",
       "      <td>...</td>\n",
       "      <td>...</td>\n",
       "      <td>...</td>\n",
       "      <td>...</td>\n",
       "      <td>...</td>\n",
       "      <td>...</td>\n",
       "      <td>...</td>\n",
       "      <td>...</td>\n",
       "      <td>...</td>\n",
       "    </tr>\n",
       "    <tr>\n",
       "      <th>165</th>\n",
       "      <td>ts328281</td>\n",
       "      <td>Dear Edward</td>\n",
       "      <td>SHOW</td>\n",
       "      <td>A 12-year-old boy survives a plane crash that ...</td>\n",
       "      <td>2023</td>\n",
       "      <td>TV-MA</td>\n",
       "      <td>0</td>\n",
       "      <td>['drama']</td>\n",
       "      <td>['US']</td>\n",
       "      <td>1.0</td>\n",
       "      <td>tt17543896</td>\n",
       "      <td>7.4</td>\n",
       "      <td>1324.0</td>\n",
       "      <td>37.810</td>\n",
       "      <td>2.000</td>\n",
       "    </tr>\n",
       "    <tr>\n",
       "      <th>166</th>\n",
       "      <td>ts316895</td>\n",
       "      <td>The Reluctant Traveler with Eugene Levy</td>\n",
       "      <td>SHOW</td>\n",
       "      <td>Award-winning actor and nervous explorer Eugen...</td>\n",
       "      <td>2023</td>\n",
       "      <td>TV-PG</td>\n",
       "      <td>35</td>\n",
       "      <td>['documentation', 'reality']</td>\n",
       "      <td>['GB']</td>\n",
       "      <td>1.0</td>\n",
       "      <td>tt15822846</td>\n",
       "      <td>7.8</td>\n",
       "      <td>473.0</td>\n",
       "      <td>13.892</td>\n",
       "      <td>6.800</td>\n",
       "    </tr>\n",
       "    <tr>\n",
       "      <th>167</th>\n",
       "      <td>ts296808</td>\n",
       "      <td>Liaison</td>\n",
       "      <td>SHOW</td>\n",
       "      <td>This contemporary thriller explores how past m...</td>\n",
       "      <td>2023</td>\n",
       "      <td>TV-MA</td>\n",
       "      <td>51</td>\n",
       "      <td>['crime', 'thriller']</td>\n",
       "      <td>['FR', 'GB']</td>\n",
       "      <td>1.0</td>\n",
       "      <td>tt14792896</td>\n",
       "      <td>6.3</td>\n",
       "      <td>549.0</td>\n",
       "      <td>84.911</td>\n",
       "      <td>6.100</td>\n",
       "    </tr>\n",
       "    <tr>\n",
       "      <th>168</th>\n",
       "      <td>ts374301</td>\n",
       "      <td>Super League: The War For Football</td>\n",
       "      <td>SHOW</td>\n",
       "      <td>The past, present, and future of European foot...</td>\n",
       "      <td>2023</td>\n",
       "      <td>TV-MA</td>\n",
       "      <td>0</td>\n",
       "      <td>['documentation', 'sport']</td>\n",
       "      <td>['US']</td>\n",
       "      <td>1.0</td>\n",
       "      <td>tt24587530</td>\n",
       "      <td>7.4</td>\n",
       "      <td>414.0</td>\n",
       "      <td>6.800</td>\n",
       "      <td>6.700</td>\n",
       "    </tr>\n",
       "    <tr>\n",
       "      <th>169</th>\n",
       "      <td>ts377681</td>\n",
       "      <td>Shape Island</td>\n",
       "      <td>SHOW</td>\n",
       "      <td>On a charming island, Square, Triangle, and Ci...</td>\n",
       "      <td>2023</td>\n",
       "      <td>TV-G</td>\n",
       "      <td>24</td>\n",
       "      <td>['family', 'animation', 'fantasy', 'comedy']</td>\n",
       "      <td>['US']</td>\n",
       "      <td>1.0</td>\n",
       "      <td>tt25515858</td>\n",
       "      <td>7.6</td>\n",
       "      <td>121.0</td>\n",
       "      <td>18.529</td>\n",
       "      <td>9.200</td>\n",
       "    </tr>\n",
       "  </tbody>\n",
       "</table>\n",
       "<p>170 rows × 15 columns</p>\n",
       "</div>"
      ],
      "text/plain": [
       "           id                                    title   type  \\\n",
       "0      tm1300                A Charlie Brown Christmas  MOVIE   \n",
       "1     tm71152    It's the Great Pumpkin, Charlie Brown  MOVIE   \n",
       "2      tm2562             A Charlie Brown Thanksgiving  MOVIE   \n",
       "3    tm125274           Be My Valentine, Charlie Brown  MOVIE   \n",
       "4    tm106607    It's the Easter Beagle, Charlie Brown  MOVIE   \n",
       "..        ...                                      ...    ...   \n",
       "165  ts328281                              Dear Edward   SHOW   \n",
       "166  ts316895  The Reluctant Traveler with Eugene Levy   SHOW   \n",
       "167  ts296808                                  Liaison   SHOW   \n",
       "168  ts374301       Super League: The War For Football   SHOW   \n",
       "169  ts377681                             Shape Island   SHOW   \n",
       "\n",
       "                                           description  release_year  \\\n",
       "0    When Charlie Brown complains about the overwhe...          1965   \n",
       "1    This classic \"Peanuts\" tale focuses on the thu...          1966   \n",
       "2    Turkey, cranberries, pumpkin pie... and the Pe...          1973   \n",
       "3    It's Valentine's Day again and Charlie Brown d...          1975   \n",
       "4    Charlie Brown, Linus and the entire Peanuts ga...          1974   \n",
       "..                                                 ...           ...   \n",
       "165  A 12-year-old boy survives a plane crash that ...          2023   \n",
       "166  Award-winning actor and nervous explorer Eugen...          2023   \n",
       "167  This contemporary thriller explores how past m...          2023   \n",
       "168  The past, present, and future of European foot...          2023   \n",
       "169  On a charming island, Square, Triangle, and Ci...          2023   \n",
       "\n",
       "    age_certification  runtime  \\\n",
       "0                   G       25   \n",
       "1                   G       25   \n",
       "2                   G       25   \n",
       "3                   G       25   \n",
       "4                   G       25   \n",
       "..                ...      ...   \n",
       "165             TV-MA        0   \n",
       "166             TV-PG       35   \n",
       "167             TV-MA       51   \n",
       "168             TV-MA        0   \n",
       "169              TV-G       24   \n",
       "\n",
       "                                                genres production_countries  \\\n",
       "0    ['comedy', 'drama', 'family', 'music', 'animat...               ['US']   \n",
       "1                    ['animation', 'comedy', 'family']               ['US']   \n",
       "2                    ['family', 'animation', 'comedy']               ['US']   \n",
       "3         ['animation', 'family', 'romance', 'comedy']               ['US']   \n",
       "4                    ['family', 'animation', 'comedy']               ['US']   \n",
       "..                                                 ...                  ...   \n",
       "165                                          ['drama']               ['US']   \n",
       "166                       ['documentation', 'reality']               ['GB']   \n",
       "167                              ['crime', 'thriller']         ['FR', 'GB']   \n",
       "168                         ['documentation', 'sport']               ['US']   \n",
       "169       ['family', 'animation', 'fantasy', 'comedy']               ['US']   \n",
       "\n",
       "     seasons     imdb_id  imdb_score  imdb_votes  tmdb_popularity  tmdb_score  \n",
       "0        NaN   tt0059026         8.3     40328.0           10.848       7.688  \n",
       "1        NaN   tt0060550         8.2     20299.0           12.458       7.474  \n",
       "2        NaN   tt0068359         7.7     11406.0           12.591       7.311  \n",
       "3        NaN   tt0072687         7.4      2777.0            6.981       7.000  \n",
       "4        NaN   tt0071679         7.5      3001.0            6.172       6.600  \n",
       "..       ...         ...         ...         ...              ...         ...  \n",
       "165      1.0  tt17543896         7.4      1324.0           37.810       2.000  \n",
       "166      1.0  tt15822846         7.8       473.0           13.892       6.800  \n",
       "167      1.0  tt14792896         6.3       549.0           84.911       6.100  \n",
       "168      1.0  tt24587530         7.4       414.0            6.800       6.700  \n",
       "169      1.0  tt25515858         7.6       121.0           18.529       9.200  \n",
       "\n",
       "[170 rows x 15 columns]"
      ]
     },
     "execution_count": 4,
     "metadata": {},
     "output_type": "execute_result"
    }
   ],
   "source": [
    "import pandas as pd\n",
    "import seaborn as sns\n",
    "import matplotlib.pyplot as plt\n",
    "import re\n",
    "\n",
    "\n",
    "# 데이터 불러오기\n",
    "df = pd.read_csv(\"../AppleTV_dataset/titles.csv\")\n",
    "# pd.set_option('display.max_rows', None)\n",
    "# df[['imdb_id', 'imdb_score', 'tmdb_popularity', 'tmdb_score']]\n",
    "df.isna().sum()\n",
    "df\n"
   ]
  },
  {
   "cell_type": "code",
   "execution_count": 5,
   "id": "1ab341c6",
   "metadata": {},
   "outputs": [
    {
     "name": "stdout",
     "output_type": "stream",
     "text": [
      "데이터셋 크기: (170, 15)\n",
      "열(변수)의 개수: 15\n",
      "열의 이름: Index(['id', 'title', 'type', 'description', 'release_year',\n",
      "       'age_certification', 'runtime', 'genres', 'production_countries',\n",
      "       'seasons', 'imdb_id', 'imdb_score', 'imdb_votes', 'tmdb_popularity',\n",
      "       'tmdb_score'],\n",
      "      dtype='object')\n"
     ]
    }
   ],
   "source": [
    "# 데이터셋 구조 파악\n",
    "print(\"데이터셋 크기:\", df.shape)\n",
    "print(\"열(변수)의 개수:\", len(df.columns))\n",
    "print(\"열의 이름:\", df.columns)"
   ]
  },
  {
   "cell_type": "code",
   "execution_count": 6,
   "id": "8ee3f01b",
   "metadata": {},
   "outputs": [
    {
     "name": "stdout",
     "output_type": "stream",
     "text": [
      "\n",
      "상위 5개 데이터:\n",
      "         id                                  title   type  \\\n",
      "0    tm1300              A Charlie Brown Christmas  MOVIE   \n",
      "1   tm71152  It's the Great Pumpkin, Charlie Brown  MOVIE   \n",
      "2    tm2562           A Charlie Brown Thanksgiving  MOVIE   \n",
      "3  tm125274         Be My Valentine, Charlie Brown  MOVIE   \n",
      "4  tm106607  It's the Easter Beagle, Charlie Brown  MOVIE   \n",
      "\n",
      "                                         description  release_year  \\\n",
      "0  When Charlie Brown complains about the overwhe...          1965   \n",
      "1  This classic \"Peanuts\" tale focuses on the thu...          1966   \n",
      "2  Turkey, cranberries, pumpkin pie... and the Pe...          1973   \n",
      "3  It's Valentine's Day again and Charlie Brown d...          1975   \n",
      "4  Charlie Brown, Linus and the entire Peanuts ga...          1974   \n",
      "\n",
      "  age_certification  runtime  \\\n",
      "0                 G       25   \n",
      "1                 G       25   \n",
      "2                 G       25   \n",
      "3                 G       25   \n",
      "4                 G       25   \n",
      "\n",
      "                                              genres production_countries  \\\n",
      "0  ['comedy', 'drama', 'family', 'music', 'animat...               ['US']   \n",
      "1                  ['animation', 'comedy', 'family']               ['US']   \n",
      "2                  ['family', 'animation', 'comedy']               ['US']   \n",
      "3       ['animation', 'family', 'romance', 'comedy']               ['US']   \n",
      "4                  ['family', 'animation', 'comedy']               ['US']   \n",
      "\n",
      "   seasons    imdb_id  imdb_score  imdb_votes  tmdb_popularity  tmdb_score  \n",
      "0      NaN  tt0059026         8.3     40328.0           10.848       7.688  \n",
      "1      NaN  tt0060550         8.2     20299.0           12.458       7.474  \n",
      "2      NaN  tt0068359         7.7     11406.0           12.591       7.311  \n",
      "3      NaN  tt0072687         7.4      2777.0            6.981       7.000  \n",
      "4      NaN  tt0071679         7.5      3001.0            6.172       6.600  \n"
     ]
    }
   ],
   "source": [
    "# 데이터셋 살펴보기 (상위 5개 데이터 출력)\n",
    "print(\"\\n상위 5개 데이터:\")\n",
    "print(df.head())"
   ]
  },
  {
   "cell_type": "code",
   "execution_count": 7,
   "id": "5baece62",
   "metadata": {},
   "outputs": [
    {
     "name": "stdout",
     "output_type": "stream",
     "text": [
      "\n",
      "수치형 열의 기술 통계량:\n",
      "       release_year     runtime     seasons  imdb_score     imdb_votes  \\\n",
      "count    170.000000  170.000000  108.000000  167.000000     166.000000   \n",
      "mean    2017.900000   51.105882    1.638889    7.126347   18139.126506   \n",
      "std       10.357315   35.867449    0.869615    1.011691   42929.993830   \n",
      "min     1965.000000    0.000000    1.000000    2.700000      19.000000   \n",
      "25%     2020.000000   25.000000    1.000000    6.600000     537.750000   \n",
      "50%     2021.000000   45.000000    1.000000    7.300000    2796.000000   \n",
      "75%     2022.000000   61.000000    2.000000    7.800000   14404.000000   \n",
      "max     2023.000000  140.000000    5.000000    9.500000  374255.000000   \n",
      "\n",
      "       tmdb_popularity  tmdb_score  \n",
      "count       170.000000  167.000000  \n",
      "mean         25.475188    7.189695  \n",
      "std          38.082373    1.202560  \n",
      "min           2.902000    2.000000  \n",
      "25%           5.971000    6.600000  \n",
      "50%          10.812500    7.300000  \n",
      "75%          26.120750    7.906500  \n",
      "max         270.029000   10.000000  \n"
     ]
    }
   ],
   "source": [
    "# 기본적인 통계 분석\n",
    "print(\"\\n수치형 열의 기술 통계량:\")\n",
    "print(df.describe())"
   ]
  },
  {
   "cell_type": "code",
   "execution_count": 8,
   "id": "db913252",
   "metadata": {},
   "outputs": [
    {
     "name": "stdout",
     "output_type": "stream",
     "text": [
      "\n",
      "결측치 개수:\n",
      "id                       0\n",
      "title                    0\n",
      "type                     0\n",
      "description              0\n",
      "release_year             0\n",
      "age_certification       11\n",
      "runtime                  0\n",
      "genres                   0\n",
      "production_countries     0\n",
      "seasons                 62\n",
      "imdb_id                  1\n",
      "imdb_score               3\n",
      "imdb_votes               4\n",
      "tmdb_popularity          0\n",
      "tmdb_score               3\n",
      "dtype: int64\n"
     ]
    }
   ],
   "source": [
    "# 결측치 확인\n",
    "print(\"\\n결측치 개수:\")\n",
    "print(df.isnull().sum())"
   ]
  },
  {
   "cell_type": "code",
   "execution_count": 9,
   "id": "f3c1cd6b",
   "metadata": {},
   "outputs": [
    {
     "name": "stdout",
     "output_type": "stream",
     "text": [
      "\n",
      "범주형 열의 고유값 개수:\n",
      "id: 170 unique values\n",
      "title: 170 unique values\n",
      "type: 2 unique values\n",
      "description: 170 unique values\n",
      "age_certification: 10 unique values\n",
      "genres: 97 unique values\n",
      "production_countries: 26 unique values\n",
      "imdb_id: 169 unique values\n"
     ]
    }
   ],
   "source": [
    "# 범주형 열의 고유값 개수\n",
    "print(\"\\n범주형 열의 고유값 개수:\")\n",
    "for column in df.select_dtypes(include='object'):\n",
    "    unique_values = df[column].nunique()\n",
    "    print(f\"{column}: {unique_values} unique values\")"
   ]
  },
  {
   "cell_type": "code",
   "execution_count": 10,
   "id": "55a3a015",
   "metadata": {},
   "outputs": [
    {
     "name": "stdout",
     "output_type": "stream",
     "text": [
      "\n",
      "열간 상관관계:\n",
      "                 release_year   runtime   seasons  imdb_score  imdb_votes  \\\n",
      "release_year         1.000000  0.074811 -0.456742   -0.120279   -0.146502   \n",
      "runtime              0.074811  1.000000 -0.076646   -0.020522    0.338650   \n",
      "seasons             -0.456742 -0.076646  1.000000    0.175630    0.285906   \n",
      "imdb_score          -0.120279 -0.020522  0.175630    1.000000    0.134623   \n",
      "imdb_votes          -0.146502  0.338650  0.285906    0.134623    1.000000   \n",
      "tmdb_popularity      0.128690  0.235487  0.289806    0.048385    0.254515   \n",
      "tmdb_score           0.022307  0.116452  0.123829    0.189453    0.097188   \n",
      "\n",
      "                 tmdb_popularity  tmdb_score  \n",
      "release_year            0.128690    0.022307  \n",
      "runtime                 0.235487    0.116452  \n",
      "seasons                 0.289806    0.123829  \n",
      "imdb_score              0.048385    0.189453  \n",
      "imdb_votes              0.254515    0.097188  \n",
      "tmdb_popularity         1.000000    0.179263  \n",
      "tmdb_score              0.179263    1.000000  \n"
     ]
    }
   ],
   "source": [
    "# 열간 상관관계\n",
    "print(\"\\n열간 상관관계:\")\n",
    "print(df.corr())\n"
   ]
  },
  {
   "cell_type": "code",
   "execution_count": 11,
   "id": "1044e47a",
   "metadata": {},
   "outputs": [
    {
     "data": {
      "image/png": "[encoded data removed]",
      "text/plain": [
       "<Figure size 576x288 with 1 Axes>"
      ]
     },
     "metadata": {
      "needs_background": "light"
     },
     "output_type": "display_data"
    },
    {
     "data": {
      "image/png": "[encoded data removed]",
      "text/plain": [
       "<Figure size 576x288 with 1 Axes>"
      ]
     },
     "metadata": {
      "needs_background": "light"
     },
     "output_type": "display_data"
    },
    {
     "data": {
      "image/png": "[encoded data removed]",
      "text/plain": [
       "<Figure size 576x288 with 1 Axes>"
      ]
     },
     "metadata": {
      "needs_background": "light"
     },
     "output_type": "display_data"
    },
    {
     "data": {
      "image/png": "[encoded data removed]",
      "text/plain": [
       "<Figure size 576x288 with 1 Axes>"
      ]
     },
     "metadata": {
      "needs_background": "light"
     },
     "output_type": "display_data"
    },
    {
     "data": {
      "image/png": "[encoded data removed]",
      "text/plain": [
       "<Figure size 576x288 with 1 Axes>"
      ]
     },
     "metadata": {
      "needs_background": "light"
     },
     "output_type": "display_data"
    },
    {
     "data": {
      "image/png": "[encoded data removed]",
      "text/plain": [
       "<Figure size 576x288 with 1 Axes>"
      ]
     },
     "metadata": {
      "needs_background": "light"
     },
     "output_type": "display_data"
    },
    {
     "data": {
      "image/png": "[encoded data removed]",
      "text/plain": [
       "<Figure size 576x288 with 1 Axes>"
      ]
     },
     "metadata": {
      "needs_background": "light"
     },
     "output_type": "display_data"
    }
   ],
   "source": [
    "# 수치형 열의 분포 시각화\n",
    "numeric_columns = df.select_dtypes(include='number').columns\n",
    "for column in numeric_columns:\n",
    "    plt.figure(figsize=(8, 4))\n",
    "    sns.histplot(df[column].dropna())\n",
    "    plt.title(f\"Distribution of {column}\")\n",
    "    plt.xlabel(column)\n",
    "    plt.ylabel(\"Frequency\")\n",
    "    plt.show()\n"
   ]
  },
  {
   "cell_type": "code",
   "execution_count": 16,
   "id": "0d3977c2",
   "metadata": {},
   "outputs": [
    {
     "ename": "AttributeError",
     "evalue": "'Index' object has no attribute 'reverse'",
     "output_type": "error",
     "traceback": [
      "\u001b[0;31m---------------------------------------------------------------------------\u001b[0m",
      "\u001b[0;31mAttributeError\u001b[0m                            Traceback (most recent call last)",
      "Input \u001b[0;32mIn [16]\u001b[0m, in \u001b[0;36m<cell line: 5>\u001b[0;34m()\u001b[0m\n\u001b[1;32m      5\u001b[0m \u001b[38;5;28;01mfor\u001b[39;00m column \u001b[38;5;129;01min\u001b[39;00m categorical_columns:\n\u001b[1;32m      6\u001b[0m     plt\u001b[38;5;241m.\u001b[39mfigure(figsize\u001b[38;5;241m=\u001b[39m(\u001b[38;5;241m10\u001b[39m, \u001b[38;5;241m4\u001b[39m))\n\u001b[0;32m----> 7\u001b[0m     sns\u001b[38;5;241m.\u001b[39mcountplot(data\u001b[38;5;241m=\u001b[39mdf, x\u001b[38;5;241m=\u001b[39mcolumn, order\u001b[38;5;241m=\u001b[39m\u001b[43mdf\u001b[49m\u001b[43m[\u001b[49m\u001b[43mcolumn\u001b[49m\u001b[43m]\u001b[49m\u001b[38;5;241;43m.\u001b[39;49m\u001b[43mvalue_counts\u001b[49m\u001b[43m(\u001b[49m\u001b[43m)\u001b[49m\u001b[38;5;241;43m.\u001b[39;49m\u001b[43mindex\u001b[49m\u001b[38;5;241;43m.\u001b[39;49m\u001b[43mreverse\u001b[49m()) \u001b[38;5;66;03m# order=df[column].value_counts().index\u001b[39;00m\n\u001b[1;32m      8\u001b[0m     plt\u001b[38;5;241m.\u001b[39mtitle(\u001b[38;5;124mf\u001b[39m\u001b[38;5;124m\"\u001b[39m\u001b[38;5;124mFrequency of \u001b[39m\u001b[38;5;132;01m{\u001b[39;00mcolumn\u001b[38;5;132;01m}\u001b[39;00m\u001b[38;5;124m\"\u001b[39m)\n\u001b[1;32m      9\u001b[0m     plt\u001b[38;5;241m.\u001b[39mxlabel(column)\n",
      "\u001b[0;31mAttributeError\u001b[0m: 'Index' object has no attribute 'reverse'"
     ]
    },
    {
     "data": {
      "text/plain": [
       "<Figure size 720x288 with 0 Axes>"
      ]
     },
     "metadata": {},
     "output_type": "display_data"
    }
   ],
   "source": [
    "# 범주형 열의 빈도수 시각화 (id, title, description 열 제외)\n",
    "categorical_columns = df.select_dtypes(include='object').columns\n",
    "categorical_columns = [column for column in categorical_columns if column not in ['id', 'title', 'description', 'genres']]\n",
    "\n",
    "for column in categorical_columns:\n",
    "    plt.figure(figsize=(10, 4))\n",
    "    sns.countplot(data=df, x=column, order=df[column].value_counts().index # order=df[column].value_counts().index\n",
    "    plt.title(f\"Frequency of {column}\")\n",
    "    plt.xlabel(column)\n",
    "    plt.ylabel(\"Count\")\n",
    "    plt.xticks(rotation=45)\n",
    "    plt.show()"
   ]
  },
  {
   "cell_type": "code",
   "execution_count": 12,
   "id": "e608a29d",
   "metadata": {},
   "outputs": [],
   "source": [
    "# genre 열의 데이터를 쉼표를 기준으로 분리하여 합집합 만들기\n",
    "genres = set()\n",
    "for genre_list in df['genres']:\n",
    "    if pd.notnull(genre_list):\n",
    "        genres.update(genre_list.split(','))\n"
   ]
  },
  {
   "cell_type": "code",
   "execution_count": 13,
   "id": "c0d9d536",
   "metadata": {},
   "outputs": [],
   "source": [
    "# 각 리스트의 원소를 포함하는 빈도수 계산\n",
    "genre_counts = {genre: 0 for genre in genres}\n",
    "for genre_list in df['genres']:\n",
    "    if pd.notnull(genre_list):\n",
    "        for genre in genre_list.split(','):\n",
    "            genre = genre.strip()\n",
    "            if genre in genre_counts:\n",
    "                genre_counts[genre] += 1\n",
    "            else:\n",
    "                genre_counts[genre] = 1"
   ]
  },
  {
   "cell_type": "code",
   "execution_count": 14,
   "id": "9e23bacc",
   "metadata": {},
   "outputs": [
    {
     "data": {
      "image/png": "[encoded data removed]",
      "text/plain": [
       "<Figure size 864x432 with 1 Axes>"
      ]
     },
     "metadata": {
      "needs_background": "light"
     },
     "output_type": "display_data"
    }
   ],
   "source": [
    "# 빈도수 시각화\n",
    "plt.figure(figsize=(12, 6))\n",
    "sns.barplot(x=list(genre_counts.values()), y=list(genre_counts.keys()))\n",
    "plt.title(\"Frequency of Genres\")\n",
    "plt.xlabel(\"Count\")\n",
    "plt.ylabel(\"Genre\")\n",
    "plt.show()"
   ]
  },
  {
   "cell_type": "code",
   "execution_count": 15,
   "id": "1216e97d",
   "metadata": {},
   "outputs": [],
   "source": [
    "# genre 열의 데이터를 쉼표를 기준으로 분리하여 알파벳만 남긴 문자열로 변환하여 합집합 만들기\n",
    "genres = set()\n",
    "for genre_list in df['genres']:\n",
    "    if pd.notnull(genre_list):\n",
    "        genres.update(re.findall(r'[a-zA-Z]+', genre_list))"
   ]
  },
  {
   "cell_type": "code",
   "execution_count": 16,
   "id": "2d11bc73",
   "metadata": {},
   "outputs": [],
   "source": [
    "# 각 문자열의 빈도수 계산\n",
    "genre_counts = {genre: 0 for genre in genres}\n",
    "for genre_list in df['genres']:\n",
    "    if pd.notnull(genre_list):\n",
    "        for genre in re.findall(r'[a-zA-Z]+', genre_list):\n",
    "            genre = genre.lower()\n",
    "            genre_counts[genre] += 1"
   ]
  },
  {
   "cell_type": "code",
   "execution_count": 25,
   "id": "6a4e8ecd",
   "metadata": {
    "scrolled": true
   },
   "outputs": [
    {
     "data": {
      "image/png": "[encoded data removed]",
      "text/plain": [
       "<Figure size 864x432 with 1 Axes>"
      ]
     },
     "metadata": {
      "needs_background": "light"
     },
     "output_type": "display_data"
    }
   ],
   "source": [
    "# 빈도수 시각화\n",
    "plt.figure(figsize=(12, 6))\n",
    "sns.barplot(x=list(genre_counts.values()), y=list(genre_counts.keys()))\n",
    "plt.title(\"Frequency of Genres\")\n",
    "plt.xlabel(\"Count\")\n",
    "plt.ylabel(\"Genre\")\n",
    "plt.show()"
   ]
  },
  {
   "cell_type": "code",
   "execution_count": null,
   "id": "f523ed9f",
   "metadata": {},
   "outputs": [],
   "source": []
  }
 ],
 "metadata": {
  "kernelspec": {
   "display_name": "Python 3 (ipykernel)",
   "language": "python",
   "name": "python3"
  },
  "language_info": {
   "codemirror_mode": {
    "name": "ipython",
    "version": 3
   },
   "file_extension": ".py",
   "mimetype": "text/x-python",
   "name": "python",
   "nbconvert_exporter": "python",
   "pygments_lexer": "ipython3",
   "version": "3.9.12"
  }
 },
 "nbformat": 4,
 "nbformat_minor": 5
}
