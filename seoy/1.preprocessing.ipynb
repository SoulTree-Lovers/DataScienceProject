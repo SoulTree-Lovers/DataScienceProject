{
 "cells": [
  {
   "cell_type": "code",
   "execution_count": 1,
   "id": "c47c33d6-366b-4886-9e67-7ac8bef6e587",
   "metadata": {},
   "outputs": [],
   "source": [
    "#import libraries\n",
    "import pandas as pd\n",
    "import matplotlib.pyplot as plt\n",
    "import seaborn as sns\n",
    "import numpy as np\n",
    "\n",
    "import pickle\n",
    "\n",
    "#graph hangul fonts\n",
    "from matplotlib import font_manager, rc\n",
    "\n",
    "rc('font', family='NanumGothic')"
   ]
  },
  {
   "cell_type": "code",
   "execution_count": 2,
   "id": "469ec1ec-84cd-41d1-99e7-8f6b77f8579b",
   "metadata": {},
   "outputs": [],
   "source": [
    "file_path = './dataset/'\n",
    "names = ['Apple', 'Disney', 'HBO', 'Netflix', 'Paramount', 'Prime']"
   ]
  },
  {
   "cell_type": "code",
   "execution_count": 3,
   "id": "fd9d5e06-30ea-4c05-a3ec-195ecb916312",
   "metadata": {},
   "outputs": [],
   "source": [
    "for name in names : \n",
    "    with open(file_path+name+\"_titles.csv\", 'rb') as f:\n",
    "        df = pd.read_csv(f)\n",
    "    globals()['{}_df'.format(name)] = df"
   ]
  },
  {
   "cell_type": "code",
   "execution_count": 4,
   "id": "f4546d96-ad45-4951-944b-e7da44caa87a",
   "metadata": {},
   "outputs": [
    {
     "name": "stdout",
     "output_type": "stream",
     "text": [
      "                      Apple  Disney   HBO  Netflix  Paramount  Prime\n",
      "id                        0       0     0        0          0      0\n",
      "title                     0       0     0        0          0      0\n",
      "type                      0       0     0        0          0      0\n",
      "description               0       9     9       23         11    144\n",
      "release_year              0       0     0        0          0      0\n",
      "age_certification        11     451  1119     2743       1640   7185\n",
      "runtime                   0       0     0        0          0      0\n",
      "genres                    0       0     0        0          0      0\n",
      "production_countries      0       0     0        0          0      0\n",
      "seasons                  62    1314  2408     3831       2518   9322\n",
      "imdb_id                   1     478   262      396        148    701\n",
      "imdb_score                3     515   299      468        207   1108\n",
      "imdb_votes                4     526   316      484        210   1120\n",
      "tmdb_popularity           0      15    17       76         48    571\n",
      "tmdb_score                3     146   172      252        438   2126\n"
     ]
    }
   ],
   "source": [
    "isna = pd.DataFrame()\n",
    "for name in names : \n",
    "    isna[name] = globals()['{}_df'.format(name)].isna().sum().to_frame()\n",
    "    \n",
    "print(isna)"
   ]
  },
  {
   "cell_type": "code",
   "execution_count": 5,
   "id": "d1c26c43-a208-45a2-b3cd-320d001a39fe",
   "metadata": {},
   "outputs": [
    {
     "data": {
      "text/plain": [
       "[0, 9, 9, 23, 11, 144]"
      ]
     },
     "execution_count": 5,
     "metadata": {},
     "output_type": "execute_result"
    }
   ],
   "source": [
    "list(isna.loc['description'].to_numpy())"
   ]
  },
  {
   "cell_type": "code",
   "execution_count": 6,
   "id": "3d384b27-e509-4ac5-a28f-1795c283e5c8",
   "metadata": {},
   "outputs": [
    {
     "name": "stdout",
     "output_type": "stream",
     "text": [
      "[170, 1854, 3030, 6137, 3182, 10873]\n"
     ]
    }
   ],
   "source": [
    "ls = list()\n",
    "for name in names : \n",
    "    ls.append(len(globals()['{}_df'.format(name)]))\n",
    "print(ls)"
   ]
  },
  {
   "cell_type": "code",
   "execution_count": 7,
   "id": "065007ee-010d-4126-aa7a-3d36c2fdc4f0",
   "metadata": {},
   "outputs": [
    {
     "name": "stdout",
     "output_type": "stream",
     "text": [
      "[0.0, 0.0048543689320388345, 0.0029702970297029703, 0.0037477594916082778, 0.0034569453174104338, 0.013243814954474386]\n"
     ]
    }
   ],
   "source": [
    "print(list(isna.loc['description'].to_numpy() / np.array(ls)))"
   ]
  },
  {
   "cell_type": "code",
   "execution_count": 8,
   "id": "87b9d56e-c8de-468b-8bdd-73ac06d41f1e",
   "metadata": {},
   "outputs": [],
   "source": [
    "ls = list()\n",
    "for name in names : \n",
    "    df = globals()['{}_df'.format(name)]\n",
    "    temp = df[df.description.isna()]\n",
    "    temp.insert(0, 'platform', [name for x in range(len(temp))])\n",
    "    ls.append(temp)\n",
    "\n",
    "missing_descriptions = pd.concat(ls)"
   ]
  },
  {
   "cell_type": "code",
   "execution_count": 9,
   "id": "878a66e2-fb28-4a6f-b390-9c60759b012c",
   "metadata": {},
   "outputs": [
    {
     "data": {
      "text/html": [
       "<div>\n",
       "<style scoped>\n",
       "    .dataframe tbody tr th:only-of-type {\n",
       "        vertical-align: middle;\n",
       "    }\n",
       "\n",
       "    .dataframe tbody tr th {\n",
       "        vertical-align: top;\n",
       "    }\n",
       "\n",
       "    .dataframe thead th {\n",
       "        text-align: right;\n",
       "    }\n",
       "</style>\n",
       "<table border=\"1\" class=\"dataframe\">\n",
       "  <thead>\n",
       "    <tr style=\"text-align: right;\">\n",
       "      <th></th>\n",
       "      <th>platform</th>\n",
       "      <th>id</th>\n",
       "      <th>title</th>\n",
       "      <th>type</th>\n",
       "      <th>description</th>\n",
       "      <th>release_year</th>\n",
       "      <th>age_certification</th>\n",
       "      <th>runtime</th>\n",
       "      <th>genres</th>\n",
       "      <th>production_countries</th>\n",
       "      <th>seasons</th>\n",
       "      <th>imdb_id</th>\n",
       "      <th>imdb_score</th>\n",
       "      <th>imdb_votes</th>\n",
       "      <th>tmdb_popularity</th>\n",
       "      <th>tmdb_score</th>\n",
       "    </tr>\n",
       "  </thead>\n",
       "  <tbody>\n",
       "    <tr>\n",
       "      <th>1233</th>\n",
       "      <td>Disney</td>\n",
       "      <td>tm444463</td>\n",
       "      <td>Riina: le verità nascoste</td>\n",
       "      <td>MOVIE</td>\n",
       "      <td>NaN</td>\n",
       "      <td>2018</td>\n",
       "      <td>NaN</td>\n",
       "      <td>45</td>\n",
       "      <td>['documentation']</td>\n",
       "      <td>['IT']</td>\n",
       "      <td>NaN</td>\n",
       "      <td>tt20866762</td>\n",
       "      <td>NaN</td>\n",
       "      <td>NaN</td>\n",
       "      <td>0.840</td>\n",
       "      <td>8.0</td>\n",
       "    </tr>\n",
       "    <tr>\n",
       "      <th>1251</th>\n",
       "      <td>Disney</td>\n",
       "      <td>ts109332</td>\n",
       "      <td>Howie Mandel's Animals Doing Things</td>\n",
       "      <td>SHOW</td>\n",
       "      <td>NaN</td>\n",
       "      <td>2018</td>\n",
       "      <td>TV-14</td>\n",
       "      <td>33</td>\n",
       "      <td>['comedy']</td>\n",
       "      <td>['US']</td>\n",
       "      <td>2.0</td>\n",
       "      <td>tt8598154</td>\n",
       "      <td>3.6</td>\n",
       "      <td>65.0</td>\n",
       "      <td>NaN</td>\n",
       "      <td>NaN</td>\n",
       "    </tr>\n",
       "    <tr>\n",
       "      <th>1470</th>\n",
       "      <td>Disney</td>\n",
       "      <td>ts310121</td>\n",
       "      <td>World's Deadliest Snakes</td>\n",
       "      <td>SHOW</td>\n",
       "      <td>NaN</td>\n",
       "      <td>2020</td>\n",
       "      <td>NaN</td>\n",
       "      <td>44</td>\n",
       "      <td>['documentation']</td>\n",
       "      <td>['US']</td>\n",
       "      <td>1.0</td>\n",
       "      <td>NaN</td>\n",
       "      <td>NaN</td>\n",
       "      <td>NaN</td>\n",
       "      <td>1.400</td>\n",
       "      <td>NaN</td>\n",
       "    </tr>\n",
       "    <tr>\n",
       "      <th>1499</th>\n",
       "      <td>Disney</td>\n",
       "      <td>tm810892</td>\n",
       "      <td>Heroes of The Mediterranean</td>\n",
       "      <td>MOVIE</td>\n",
       "      <td>NaN</td>\n",
       "      <td>2019</td>\n",
       "      <td>NaN</td>\n",
       "      <td>44</td>\n",
       "      <td>['documentation']</td>\n",
       "      <td>['ES']</td>\n",
       "      <td>NaN</td>\n",
       "      <td>NaN</td>\n",
       "      <td>NaN</td>\n",
       "      <td>NaN</td>\n",
       "      <td>0.603</td>\n",
       "      <td>NaN</td>\n",
       "    </tr>\n",
       "    <tr>\n",
       "      <th>1508</th>\n",
       "      <td>Disney</td>\n",
       "      <td>tm1052946</td>\n",
       "      <td>My Music Story: Sukimaswitch</td>\n",
       "      <td>MOVIE</td>\n",
       "      <td>NaN</td>\n",
       "      <td>2020</td>\n",
       "      <td>NaN</td>\n",
       "      <td>81</td>\n",
       "      <td>['documentation', 'music']</td>\n",
       "      <td>[]</td>\n",
       "      <td>NaN</td>\n",
       "      <td>tt14287032</td>\n",
       "      <td>NaN</td>\n",
       "      <td>NaN</td>\n",
       "      <td>NaN</td>\n",
       "      <td>NaN</td>\n",
       "    </tr>\n",
       "  </tbody>\n",
       "</table>\n",
       "</div>"
      ],
      "text/plain": [
       "     platform         id                                title   type  \\\n",
       "1233   Disney   tm444463            Riina: le verità nascoste  MOVIE   \n",
       "1251   Disney   ts109332  Howie Mandel's Animals Doing Things   SHOW   \n",
       "1470   Disney   ts310121             World's Deadliest Snakes   SHOW   \n",
       "1499   Disney   tm810892          Heroes of The Mediterranean  MOVIE   \n",
       "1508   Disney  tm1052946         My Music Story: Sukimaswitch  MOVIE   \n",
       "\n",
       "     description  release_year age_certification  runtime  \\\n",
       "1233         NaN          2018               NaN       45   \n",
       "1251         NaN          2018             TV-14       33   \n",
       "1470         NaN          2020               NaN       44   \n",
       "1499         NaN          2019               NaN       44   \n",
       "1508         NaN          2020               NaN       81   \n",
       "\n",
       "                          genres production_countries  seasons     imdb_id  \\\n",
       "1233           ['documentation']               ['IT']      NaN  tt20866762   \n",
       "1251                  ['comedy']               ['US']      2.0   tt8598154   \n",
       "1470           ['documentation']               ['US']      1.0         NaN   \n",
       "1499           ['documentation']               ['ES']      NaN         NaN   \n",
       "1508  ['documentation', 'music']                   []      NaN  tt14287032   \n",
       "\n",
       "      imdb_score  imdb_votes  tmdb_popularity  tmdb_score  \n",
       "1233         NaN         NaN            0.840         8.0  \n",
       "1251         3.6        65.0              NaN         NaN  \n",
       "1470         NaN         NaN            1.400         NaN  \n",
       "1499         NaN         NaN            0.603         NaN  \n",
       "1508         NaN         NaN              NaN         NaN  "
      ]
     },
     "execution_count": 9,
     "metadata": {},
     "output_type": "execute_result"
    }
   ],
   "source": [
    "missing_descriptions.head()"
   ]
  },
  {
   "cell_type": "code",
   "execution_count": 10,
   "id": "cdbdc19e-2767-480c-b1ac-6eeebfb234c3",
   "metadata": {},
   "outputs": [],
   "source": [
    "colors = ['black', '#113ccf', '#991EEB', '#D81F26', '#0164FF', '#00A8E1']"
   ]
  },
  {
   "cell_type": "code",
   "execution_count": 11,
   "id": "d87c949c-97ca-49a6-a7fd-2f5d7758c7c6",
   "metadata": {},
   "outputs": [
    {
     "data": {
      "image/png": "[encoded data removed]",
      "text/plain": [
       "<Figure size 600x600 with 1 Axes>"
      ]
     },
     "metadata": {},
     "output_type": "display_data"
    }
   ],
   "source": [
    "ratio = missing_descriptions['platform'].value_counts().to_frame()\n",
    "fig, ax = plt.subplots(figsize=(6, 6))\n",
    "plt.pie(ratio['platform'], labels = ratio.index, autopct = '%.1f%%', colors=colors[1:], \n",
    "        textprops={'color':'white', 'size':12})\n",
    "plt.legend(ratio.index, loc='upper right')\n",
    "plt.show()"
   ]
  },
  {
   "cell_type": "code",
   "execution_count": 12,
   "id": "db3cef12-7785-4ad3-8719-edc30929a7a8",
   "metadata": {},
   "outputs": [
    {
     "data": {
      "text/html": [
       "<div>\n",
       "<style scoped>\n",
       "    .dataframe tbody tr th:only-of-type {\n",
       "        vertical-align: middle;\n",
       "    }\n",
       "\n",
       "    .dataframe tbody tr th {\n",
       "        vertical-align: top;\n",
       "    }\n",
       "\n",
       "    .dataframe thead th {\n",
       "        text-align: right;\n",
       "    }\n",
       "</style>\n",
       "<table border=\"1\" class=\"dataframe\">\n",
       "  <thead>\n",
       "    <tr style=\"text-align: right;\">\n",
       "      <th></th>\n",
       "      <th>platform</th>\n",
       "      <th>id</th>\n",
       "      <th>title</th>\n",
       "      <th>type</th>\n",
       "      <th>description</th>\n",
       "      <th>release_year</th>\n",
       "      <th>age_certification</th>\n",
       "      <th>runtime</th>\n",
       "      <th>genres</th>\n",
       "      <th>production_countries</th>\n",
       "      <th>seasons</th>\n",
       "      <th>imdb_id</th>\n",
       "      <th>imdb_score</th>\n",
       "      <th>imdb_votes</th>\n",
       "      <th>tmdb_popularity</th>\n",
       "      <th>tmdb_score</th>\n",
       "    </tr>\n",
       "  </thead>\n",
       "  <tbody>\n",
       "    <tr>\n",
       "      <th>382</th>\n",
       "      <td>Paramount</td>\n",
       "      <td>tm74212</td>\n",
       "      <td>Frankie Darro &amp; Mantan Moreland Collection (Up...</td>\n",
       "      <td>MOVIE</td>\n",
       "      <td>NaN</td>\n",
       "      <td>1940</td>\n",
       "      <td>NaN</td>\n",
       "      <td>62</td>\n",
       "      <td>['comedy', 'music', 'romance', 'action']</td>\n",
       "      <td>['US']</td>\n",
       "      <td>NaN</td>\n",
       "      <td>tt0033214</td>\n",
       "      <td>5.7</td>\n",
       "      <td>345.0</td>\n",
       "      <td>1.319</td>\n",
       "      <td>5.5</td>\n",
       "    </tr>\n",
       "    <tr>\n",
       "      <th>595</th>\n",
       "      <td>Prime</td>\n",
       "      <td>tm74212</td>\n",
       "      <td>Frankie Darro &amp; Mantan Moreland Collection (Up...</td>\n",
       "      <td>MOVIE</td>\n",
       "      <td>NaN</td>\n",
       "      <td>1940</td>\n",
       "      <td>NaN</td>\n",
       "      <td>62</td>\n",
       "      <td>['comedy', 'music', 'romance', 'action']</td>\n",
       "      <td>['US']</td>\n",
       "      <td>NaN</td>\n",
       "      <td>tt0033214</td>\n",
       "      <td>5.7</td>\n",
       "      <td>345.0</td>\n",
       "      <td>1.319</td>\n",
       "      <td>5.5</td>\n",
       "    </tr>\n",
       "  </tbody>\n",
       "</table>\n",
       "</div>"
      ],
      "text/plain": [
       "      platform       id                                              title  \\\n",
       "382  Paramount  tm74212  Frankie Darro & Mantan Moreland Collection (Up...   \n",
       "595      Prime  tm74212  Frankie Darro & Mantan Moreland Collection (Up...   \n",
       "\n",
       "      type description  release_year age_certification  runtime  \\\n",
       "382  MOVIE         NaN          1940               NaN       62   \n",
       "595  MOVIE         NaN          1940               NaN       62   \n",
       "\n",
       "                                       genres production_countries  seasons  \\\n",
       "382  ['comedy', 'music', 'romance', 'action']               ['US']      NaN   \n",
       "595  ['comedy', 'music', 'romance', 'action']               ['US']      NaN   \n",
       "\n",
       "       imdb_id  imdb_score  imdb_votes  tmdb_popularity  tmdb_score  \n",
       "382  tt0033214         5.7       345.0            1.319         5.5  \n",
       "595  tt0033214         5.7       345.0            1.319         5.5  "
      ]
     },
     "execution_count": 12,
     "metadata": {},
     "output_type": "execute_result"
    }
   ],
   "source": [
    "missing_descriptions[missing_descriptions['id'].duplicated(keep=False)]"
   ]
  },
  {
   "cell_type": "code",
   "execution_count": 13,
   "id": "cff8fbf8-5d0d-4dc0-82e0-fae3c7ece9bc",
   "metadata": {},
   "outputs": [],
   "source": [
    "df = pd.pivot_table(missing_descriptions, index='release_year', columns='platform', values='id', aggfunc='count')"
   ]
  },
  {
   "cell_type": "code",
   "execution_count": 14,
   "id": "0b2fae4e-d1cf-40e9-8c9d-f77852091261",
   "metadata": {},
   "outputs": [
    {
     "data": {
      "image/png": "[encoded data removed]",
      "text/plain": [
       "<Figure size 1000x700 with 1 Axes>"
      ]
     },
     "metadata": {},
     "output_type": "display_data"
    }
   ],
   "source": [
    "fig, ax = plt.subplots(figsize=(10, 7))\n",
    "df.plot(kind='line', color=colors[1:], ax=ax)\n",
    "plt.show()"
   ]
  },
  {
   "cell_type": "markdown",
   "id": "3a0b7cbe-1e09-4697-bf0b-2d07b47638b9",
   "metadata": {},
   "source": [
    "## 결론: description 빠진거 그냥 빼고 진행하자"
   ]
  },
  {
   "cell_type": "code",
   "execution_count": null,
   "id": "c540ddc5-fb08-41e1-897f-6fcfa7d2e97f",
   "metadata": {},
   "outputs": [],
   "source": []
  }
 ],
 "metadata": {
  "kernelspec": {
   "display_name": "Python 3 (ipykernel)",
   "language": "python",
   "name": "python3"
  },
  "language_info": {
   "codemirror_mode": {
    "name": "ipython",
    "version": 3
   },
   "file_extension": ".py",
   "mimetype": "text/x-python",
   "name": "python",
   "nbconvert_exporter": "python",
   "pygments_lexer": "ipython3",
   "version": "3.10.9"
  }
 },
 "nbformat": 4,
 "nbformat_minor": 5
}
